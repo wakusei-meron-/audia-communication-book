{
 "cells": [
  {
   "cell_type": "code",
   "execution_count": 1,
   "metadata": {},
   "outputs": [],
   "source": [
    "# 定数・変数の定義\n",
    "from enum import Enum\n",
    "\n",
    "# 状態のEnumの定義\n",
    "class Status(Enum):\n",
    "    WAIT = 1  # SYNコードの受付状態\n",
    "    READY = 2 # 入力受付状態\n",
    "    \n",
    "# 初期状態はwait \n",
    "status = Status.WAIT\n",
    "\n",
    "# SYNコードの定義\n",
    "SYN_CODE = np.array([0,0,0,1,0,1,1,0])\n",
    "\n",
    "# 入力データの準備 (SYN + a + SYN)\n",
    "a_code = np.array([0,1,1,0,0,0,0,1])\n",
    "b_code = np.array([0,1,1,0,0,0,1,0])\n",
    "c_code = np.array([0,1,1,0,0,0,1,1])\n",
    "input_data = np.r_[a_code, SYN_CODE, b_code, SYN_CODE, c_code]\n",
    "\n",
    "# 入力データを一時的に保持するためのバッファ\n",
    "bin_data_buffer = np.zeros(8, np.int8)\n",
    "\n",
    "# メッセージを受信するためのバッファ\n",
    "input_bin_data = np.empty(0, np.int8)"
   ]
  },
  {
   "cell_type": "code",
   "execution_count": 2,
   "metadata": {},
   "outputs": [
    {
     "name": "stdout",
     "output_type": "stream",
     "text": [
      "受信データ: [0 1 1 0 0 0 1 0]\n"
     ]
    }
   ],
   "source": [
    "# キャラクター同期のメッセージ取得手順\n",
    "# 入力データを1ビットずつ処理する\n",
    "for signal in input_data:\n",
    "    \n",
    "    # 要素を1つずらす [1, 2, 3, 4] → [2, 3, 4, 1]\n",
    "    bin_data_buffer = np.roll(bin_data_buffer, -1)\n",
    "    \n",
    "    # 最新のデータを末尾に代入し、バッファの更新\n",
    "    bin_data_buffer[-1] = signal\n",
    "    \n",
    "    # 待ち状態の場合\n",
    "    if status == Status.WAIT:\n",
    "        \n",
    "        # 直近8ビットのデータがSYNコードと一致するか判定\n",
    "        if np.array_equal(bin_data_buffer, SYN_CODE):\n",
    "            \n",
    "            # SYNコードの場合入力受付状態に変更\n",
    "            status = Status.READY\n",
    "        \n",
    "    # 入力受付状態の場合\n",
    "    elif status == Status.READY:\n",
    "        \n",
    "        # メッセージ内容を保持\n",
    "        input_bin_data = np.append(input_bin_data, signal)\n",
    "        \n",
    "        # SYNコードか判定\n",
    "        if  np.array_equal(bin_data_buffer, SYN_CODE):\n",
    "            \n",
    "            # 直近8ビットがsynコードなので入力データから除外\n",
    "            input_bin_data = input_bin_data[:-8]\n",
    "            \n",
    "            status = Status.WAIT\n",
    "        \n",
    "# bin_data_buffer\n",
    "print(\"受信データ: {}\".format(input_bin_data)) "
   ]
  },
  {
   "cell_type": "code",
   "execution_count": null,
   "metadata": {},
   "outputs": [],
   "source": []
  }
 ],
 "metadata": {
  "kernelspec": {
   "display_name": "Python 3",
   "language": "python",
   "name": "python3"
  },
  "language_info": {
   "codemirror_mode": {
    "name": "ipython",
    "version": 3
   },
   "file_extension": ".py",
   "mimetype": "text/x-python",
   "name": "python",
   "nbconvert_exporter": "python",
   "pygments_lexer": "ipython3",
   "version": "3.6.3"
  }
 },
 "nbformat": 4,
 "nbformat_minor": 2
}
