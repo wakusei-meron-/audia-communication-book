{
 "cells": [
  {
   "cell_type": "code",
   "execution_count": 2,
   "metadata": {},
   "outputs": [
    {
     "data": {
      "text/plain": [
       "<matplotlib.collections.PathCollection at 0x117546898>"
      ]
     },
     "execution_count": 2,
     "metadata": {},
     "output_type": "execute_result"
    },
    {
     "data": {
      "image/png": "[encoded data removed]",
      "text/plain": [
       "<Figure size 432x288 with 1 Axes>"
      ]
     },
     "metadata": {
      "needs_background": "light"
     },
     "output_type": "display_data"
    }
   ],
   "source": [
    "# 正弦波の作成\n",
    "amp = 0.5 # 振幅\n",
    "frq = 2   # 周波数\n",
    "sr = 50   # サンプリング周波数\n",
    "sec = 1   # 波形を生成する時間\n",
    "\n",
    "# サンプリングする時間\n",
    "t = np.linspace(0, sec, sr * sec)\n",
    "\n",
    "# 各時間における正弦波の作成\n",
    "y = amp * np.sin(2 * np.pi * frq * t)\n",
    "\n",
    "# 8ビットで量子化\n",
    "y = (y / max(abs(y)) * np.iinfo(np.int8).max ).astype(np.int8)\n",
    "\n",
    "# 描画\n",
    "plt.scatter(t, y)"
   ]
  },
  {
   "cell_type": "code",
   "execution_count": 3,
   "metadata": {},
   "outputs": [
    {
     "data": {
      "text/plain": [
       "array([0., 1., 2., 3., 4.])"
      ]
     },
     "execution_count": 3,
     "metadata": {},
     "output_type": "execute_result"
    }
   ],
   "source": [
    "# np.linspace(開始, 終了, 要素数)\n",
    "np.linspace(0, 4, 5)"
   ]
  },
  {
   "cell_type": "code",
   "execution_count": 4,
   "metadata": {},
   "outputs": [],
   "source": [
    "# 440Hzの波の生成(共通部分)\n",
    "sr = 44100  # サンプリング周波数\n",
    "frq = 440   # 波の周波数 \n",
    "sec = 5     # 再生時間\n",
    "\n",
    "# サンプリング時間\n",
    "t = np.linspace(0, sec, sr * sec)\n",
    "\n",
    "# サンプリング時間における波の瞬時値\n",
    "y = np.sin(2 * np.pi * frq * t)\n",
    "\n",
    "# 16ビットで量子化\n",
    "y = (y / max(abs(y)) * np.iinfo(np.int16).max).astype(np.int16)"
   ]
  },
  {
   "cell_type": "code",
   "execution_count": 5,
   "metadata": {},
   "outputs": [],
   "source": [
    "# 標準ライブラリでwavファイルの書き出し\n",
    "import wave as wv\n",
    "import struct\n",
    "\n",
    "# ステレオに変換\n",
    "y_std = np.reshape([y,y], len(y)*2, order=\"F\")\n",
    "\n",
    "# バイト列オブジェクトに変換\n",
    "y_std = struct.pack(\"h\" * len(y_std), *y_std)\n",
    "\n",
    "# Wave_writeオブジェクトの生成\n",
    "filename = \"440Hz_standard.wav\"\n",
    "with wv.Wave_write(filename) as w:\n",
    "\n",
    "    # パラメーターの設定\n",
    "    w.setparams((\n",
    "        2,      # チャンネル数\n",
    "        2,      # 量子化バイト数. 16[bit] = 2 [byte]\n",
    "        sr,     # サンプリング周波数\n",
    "        len(y_std), # フレーム数\n",
    "        \"NONE\", # 圧縮形式\n",
    "        \"NONE\"  # 人が判断可能な圧縮形式\n",
    "    ))\n",
    "    \n",
    "    # ファイルに書き出し\n",
    "    w.writeframesraw(y_std)"
   ]
  },
  {
   "cell_type": "code",
   "execution_count": 6,
   "metadata": {},
   "outputs": [
    {
     "name": "stdout",
     "output_type": "stream",
     "text": [
      "チャンネル数: 2, バイト数: 2, サンプリング周波数: 44100, フレーム数: 220500, 圧縮形式: NONE, 圧縮形式詳細: not compressed\n",
      "00000000\n",
      "1\n",
      "04080408\n",
      "2\n",
      "0\n"
     ]
    }
   ],
   "source": [
    "# 標準ライブラリでwavファイルの読み込み\n",
    "with wv.open(filename, 'rb') as wav:\n",
    "    # wavファイルの詳細確認\n",
    "    print(\"チャンネル数: {}, バイト数: {}, サンプリング周波数: {}, フレーム数: {}, 圧縮形式: {}, 圧縮形式詳細: {}\".format(wav.getnchannels(),\n",
    "      wav.getsampwidth(),\n",
    "      wav.getframerate(), \n",
    "      wav.getnframes(), \n",
    "      wav.getcomptype(), \n",
    "      wav.getcompname()))\n",
    "    # => チャンネル数: 2, バイト数: 2, サンプリング周波数: 44100, フレーム数: 220500, 圧縮形式: NONE, 圧縮形式詳細: not compressed\n",
    "    \n",
    "    # n個のフレームを読み込む\n",
    "    n = 1\n",
    "    print(wav.readframes(n).hex()) # 00000000\n",
    "    \n",
    "    # ファイル中の現在の位置を確認\n",
    "    print(wav.tell()) # => 1\n",
    "    \n",
    "    # フレームを1つずつ読み込まれていることを確認\n",
    "    print(wav.readframes(n).hex()) # => 04080408\n",
    "    print(wav.tell()) # => 2\n",
    "    \n",
    "    #  ポインタを先頭に戻し、位置の確認\n",
    "    wav.rewind()\n",
    "    print(wav.tell()) # => 0"
   ]
  },
  {
   "cell_type": "code",
   "execution_count": 7,
   "metadata": {},
   "outputs": [],
   "source": [
    "# scipyでwavファイルの書き込み\n",
    "import scipy.io.wavfile as siw\n",
    "\n",
    "# ステレオにする\n",
    "y_scipy = np.array(np.c_[y,y]) \n",
    "\n",
    "# ファイル名を指定して保存\n",
    "filename = \"440Hz_scipy.wav\"\n",
    "siw.write(filename, sr, y_scipy)"
   ]
  },
  {
   "cell_type": "code",
   "execution_count": 8,
   "metadata": {},
   "outputs": [
    {
     "data": {
      "text/plain": [
       "(44100, array([[    0,     0],\n",
       "        [ 2052,  2052],\n",
       "        [ 4097,  4097],\n",
       "        ...,\n",
       "        [-4097, -4097],\n",
       "        [-2052, -2052],\n",
       "        [    0,     0]], dtype=int16))"
      ]
     },
     "execution_count": 8,
     "metadata": {},
     "output_type": "execute_result"
    }
   ],
   "source": [
    "# scipyでwavファイルの読み込み\n",
    "siw.read(filename)"
   ]
  }
 ],
 "metadata": {
  "kernelspec": {
   "display_name": "Python 3",
   "language": "python",
   "name": "python3"
  },
  "language_info": {
   "codemirror_mode": {
    "name": "ipython",
    "version": 3
   },
   "file_extension": ".py",
   "mimetype": "text/x-python",
   "name": "python",
   "nbconvert_exporter": "python",
   "pygments_lexer": "ipython3",
   "version": "3.6.3"
  }
 },
 "nbformat": 4,
 "nbformat_minor": 2
}
