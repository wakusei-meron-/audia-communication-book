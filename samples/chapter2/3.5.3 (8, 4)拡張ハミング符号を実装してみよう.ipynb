{
 "cells": [
  {
   "cell_type": "code",
   "execution_count": 1,
   "metadata": {},
   "outputs": [
    {
     "name": "stdout",
     "output_type": "stream",
     "text": [
      "送信データ: [0 1 0 1]\n",
      "ハミング符号: [0 1 0 0 1 0 1 1]\n",
      "受信データ:[0 1 0 1]\n",
      "受信データ:[0 1 0 1]\n"
     ]
    },
    {
     "ename": "Exception",
     "evalue": "detected double error",
     "output_type": "error",
     "traceback": [
      "\u001b[0;31m---------------------------------------------------------------------------\u001b[0m",
      "\u001b[0;31mException\u001b[0m                                 Traceback (most recent call last)",
      "\u001b[0;32m<ipython-input-1-25395c6db13c>\u001b[0m in \u001b[0;36m<module>\u001b[0;34m\u001b[0m\n\u001b[1;32m     77\u001b[0m \u001b[0;31m# 2bit誤りのあるデータの検知\u001b[0m\u001b[0;34m\u001b[0m\u001b[0;34m\u001b[0m\u001b[0m\n\u001b[1;32m     78\u001b[0m \u001b[0mdata\u001b[0m \u001b[0;34m=\u001b[0m \u001b[0mnp\u001b[0m\u001b[0;34m.\u001b[0m\u001b[0marray\u001b[0m\u001b[0;34m(\u001b[0m\u001b[0;34m[\u001b[0m\u001b[0;36m1\u001b[0m\u001b[0;34m,\u001b[0m\u001b[0;36m0\u001b[0m\u001b[0;34m,\u001b[0m\u001b[0;36m0\u001b[0m\u001b[0;34m,\u001b[0m\u001b[0;36m0\u001b[0m\u001b[0;34m,\u001b[0m\u001b[0;36m1\u001b[0m\u001b[0;34m,\u001b[0m\u001b[0;36m0\u001b[0m\u001b[0;34m,\u001b[0m\u001b[0;36m1\u001b[0m\u001b[0;34m,\u001b[0m\u001b[0;36m1\u001b[0m\u001b[0;34m]\u001b[0m\u001b[0;34m)\u001b[0m\u001b[0;34m\u001b[0m\u001b[0m\n\u001b[0;32m---> 79\u001b[0;31m \u001b[0mprint\u001b[0m\u001b[0;34m(\u001b[0m\u001b[0;34m\"受信データ:{}\"\u001b[0m\u001b[0;34m.\u001b[0m\u001b[0mformat\u001b[0m\u001b[0;34m(\u001b[0m\u001b[0mh\u001b[0m\u001b[0;34m.\u001b[0m\u001b[0mcorrect\u001b[0m\u001b[0;34m(\u001b[0m\u001b[0mdata\u001b[0m\u001b[0;34m)\u001b[0m\u001b[0;34m)\u001b[0m\u001b[0;34m)\u001b[0m\u001b[0;34m\u001b[0m\u001b[0m\n\u001b[0m",
      "\u001b[0;32m<ipython-input-1-25395c6db13c>\u001b[0m in \u001b[0;36mcorrect\u001b[0;34m(self, data)\u001b[0m\n\u001b[1;32m     42\u001b[0m         \u001b[0;31m# 2ビットエラーが合った場合は例外を投げる\u001b[0m\u001b[0;34m\u001b[0m\u001b[0;34m\u001b[0m\u001b[0m\n\u001b[1;32m     43\u001b[0m         \u001b[0;32mif\u001b[0m \u001b[0msyndrome\u001b[0m\u001b[0;34m[\u001b[0m\u001b[0;34m-\u001b[0m\u001b[0;36m1\u001b[0m\u001b[0;34m]\u001b[0m \u001b[0;34m==\u001b[0m \u001b[0;36m0\u001b[0m \u001b[0;32mand\u001b[0m \u001b[0mnp\u001b[0m\u001b[0;34m.\u001b[0m\u001b[0many\u001b[0m\u001b[0;34m(\u001b[0m\u001b[0msyndrome\u001b[0m\u001b[0;34m[\u001b[0m\u001b[0;34m:\u001b[0m\u001b[0;34m-\u001b[0m\u001b[0;36m1\u001b[0m\u001b[0;34m]\u001b[0m\u001b[0;34m)\u001b[0m\u001b[0;34m:\u001b[0m\u001b[0;34m\u001b[0m\u001b[0m\n\u001b[0;32m---> 44\u001b[0;31m             \u001b[0;32mraise\u001b[0m \u001b[0mException\u001b[0m\u001b[0;34m(\u001b[0m\u001b[0;34m\"detected double error\"\u001b[0m\u001b[0;34m)\u001b[0m\u001b[0;34m\u001b[0m\u001b[0m\n\u001b[0m\u001b[1;32m     45\u001b[0m \u001b[0;34m\u001b[0m\u001b[0m\n\u001b[1;32m     46\u001b[0m         \u001b[0;31m# 誤り訂正\u001b[0m\u001b[0;34m\u001b[0m\u001b[0;34m\u001b[0m\u001b[0m\n",
      "\u001b[0;31mException\u001b[0m: detected double error"
     ]
    }
   ],
   "source": [
    "# (8, 4)の拡張ハミング符号の実装\n",
    "class PyHammingCode84:\n",
    "    # ハミング符号生成行列\n",
    "    _GEN_MAT = np.array([\n",
    "        [1,1,0,1],\n",
    "        [1,0,1,1],\n",
    "        [1,0,0,0],\n",
    "        [0,1,1,1],\n",
    "        [0,1,0,0],\n",
    "        [0,0,1,0],\n",
    "        [0,0,0,1],\n",
    "        [1,1,1,0]\n",
    "    ])\n",
    "    # パリティ検査行列\n",
    "    _CHECK_MAT = np.array([\n",
    "        [1,0,1,0,1,0,1,0],\n",
    "        [0,1,1,0,0,1,1,0],\n",
    "        [0,0,0,1,1,1,1,0],\n",
    "        [1,1,1,1,1,1,1,1]\n",
    "    ])\n",
    "    # ハミング符号から元のデータ抽出行列\n",
    "    _EXTRACT_MAT = np.array([\n",
    "        [0,0,1,0,0,0,0,0],\n",
    "        [0,0,0,0,1,0,0,0],\n",
    "        [0,0,0,0,0,1,0,0],\n",
    "        [0,0,0,0,0,0,1,0],\n",
    "    ])\n",
    "\n",
    "    # シンドロームから誤りビットの位置を計算する行列\n",
    "    _SYNDROME_TO_INDEX_MAT = np.array([1,2,4,0])\n",
    "    \n",
    "    # ハミング符号の生成\n",
    "    def calc_parity(self, data):\n",
    "        # 生成行列とデータの内積をとり、2の剰余を取ることで偶数・奇数の符号に変換\n",
    "        return np.dot(self._GEN_MAT, data) % 2\n",
    "        \n",
    "    # 1ビットの誤り訂正、2ビットの誤り検出\n",
    "    def correct(self, data):\n",
    "        _d = np.copy(data)\n",
    "        syndrome = np.dot(self._CHECK_MAT, _d) % 2\n",
    "\n",
    "        # 2ビットエラーが合った場合は例外を投げる\n",
    "        if syndrome[-1] == 0 and np.any(syndrome[:-1]):\n",
    "            raise Exception(\"detected double error\")\n",
    "\n",
    "        # 誤り訂正\n",
    "        if np.any(syndrome):\n",
    "            # シンドロームの値からビット位置の計算\n",
    "            i = np.dot(self._SYNDROME_TO_INDEX_MAT, syndrome.T) - 1 # -1で0から始まるインデックスにする\n",
    "\n",
    "            # 誤り符号の訂正\n",
    "            _d[i] = _d[i] ^ 1\n",
    "\n",
    "        # データのみ抽出\n",
    "        return np.dot(self._EXTRACT_MAT, _d)\n",
    "\n",
    "# データの初期化\n",
    "data = np.array([0,1,0,1])\n",
    "print(\"送信データ: {}\".format(data))\n",
    "# => 送信データ: [0 1 0 1]\n",
    "\n",
    "# ハミング符号の計算\n",
    "h = PyHammingCode84()\n",
    "print(\"ハミング符号: {}\".format(h.calc_parity(data)))\n",
    "# => ハミング符号: [0 1 0 0 1 0 1 1]\n",
    "\n",
    "# ハミング符号の復号\n",
    "data = np.array([0,1,0,0,1,0,1,1])\n",
    "print(\"受信データ:{}\".format(h.correct(data)))\n",
    "# => 受信データ:[0 1 0 1]\n",
    "\n",
    "# 1bit誤りのあるデータの復号\n",
    "data = np.array([1,1,0,0,1,0,1,1])\n",
    "print(\"受信データ:{}\".format(h.correct(data)))\n",
    "# => 受信データ:[0 1 0 1]\n",
    "\n",
    "# 2bit誤りのあるデータの検知\n",
    "data = np.array([1,0,0,0,1,0,1,1])\n",
    "print(\"受信データ:{}\".format(h.correct(data)))"
   ]
  },
  {
   "cell_type": "code",
   "execution_count": null,
   "metadata": {},
   "outputs": [],
   "source": []
  }
 ],
 "metadata": {
  "kernelspec": {
   "display_name": "Python 3",
   "language": "python",
   "name": "python3"
  },
  "language_info": {
   "codemirror_mode": {
    "name": "ipython",
    "version": 3
   },
   "file_extension": ".py",
   "mimetype": "text/x-python",
   "name": "python",
   "nbconvert_exporter": "python",
   "pygments_lexer": "ipython3",
   "version": "3.6.3"
  }
 },
 "nbformat": 4,
 "nbformat_minor": 2
}
