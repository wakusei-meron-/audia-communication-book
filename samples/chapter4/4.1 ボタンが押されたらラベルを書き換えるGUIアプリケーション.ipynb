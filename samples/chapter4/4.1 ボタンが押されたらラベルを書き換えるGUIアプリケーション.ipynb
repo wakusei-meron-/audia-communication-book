{
 "cells": [
  {
   "cell_type": "code",
   "execution_count": 1,
   "metadata": {},
   "outputs": [],
   "source": [
    "import tkinter as tk\n",
    "\n",
    "global s\n",
    "\n",
    "# ボタンクリック時のイベント\n",
    "def click_event():\n",
    "    \n",
    "    # ラベルテキストの更新\n",
    "    s.set(\"clicked!\")\n",
    "    \n",
    "# windowを表示するためのオブジェクトの作成\n",
    "root = tk.Tk()\n",
    "\n",
    "# タイトルの設定\n",
    "root.title(\"サンプルアプリ\")\n",
    "\n",
    "# 表示画面サイズの設定\n",
    "root.geometry(\"400x300\")\n",
    "\n",
    "# ラベルテキストの初期化\n",
    "s = tk.StringVar()\n",
    "s.set(\"not yet clicked\")\n",
    "\n",
    "# ラベルオブジェクトの生成とwindowに配置\n",
    "label = tk.Label(root, textvariable=s)\n",
    "label.pack()\n",
    "\n",
    "# ボタンオブジェクトの生成とwindowに配置\n",
    "button = tk.Button(root, text=\"click me\", command=click_event)\n",
    "button.pack()\n",
    "\n",
    "# windowの表示\n",
    "root.mainloop()"
   ]
  }
 ],
 "metadata": {
  "kernelspec": {
   "display_name": "Python 3",
   "language": "python",
   "name": "python3"
  },
  "language_info": {
   "codemirror_mode": {
    "name": "ipython",
    "version": 3
   },
   "file_extension": ".py",
   "mimetype": "text/x-python",
   "name": "python",
   "nbconvert_exporter": "python",
   "pygments_lexer": "ipython3",
   "version": "3.6.3"
  }
 },
 "nbformat": 4,
 "nbformat_minor": 2
}
