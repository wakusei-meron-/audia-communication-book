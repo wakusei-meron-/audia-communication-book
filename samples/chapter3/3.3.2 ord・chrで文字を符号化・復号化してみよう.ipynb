{
 "cells": [
  {
   "cell_type": "code",
   "execution_count": 1,
   "metadata": {},
   "outputs": [
    {
     "data": {
      "text/plain": [
       "49"
      ]
     },
     "execution_count": 1,
     "metadata": {},
     "output_type": "execute_result"
    }
   ],
   "source": [
    "# 文字からASCIIコードの取得\n",
    "ord(\"1\")"
   ]
  },
  {
   "cell_type": "code",
   "execution_count": 2,
   "metadata": {},
   "outputs": [
    {
     "data": {
      "text/plain": [
       "'110001'"
      ]
     },
     "execution_count": 2,
     "metadata": {},
     "output_type": "execute_result"
    }
   ],
   "source": [
    "# 10進数→2進数文字列\n",
    "def _int2bin(s):\n",
    "    return str(s) if s <= 1 else _int2bin(s>>1) + str(s&1)\n",
    "\n",
    "_int2bin(49)"
   ]
  },
  {
   "cell_type": "code",
   "execution_count": 3,
   "metadata": {},
   "outputs": [
    {
     "data": {
      "text/plain": [
       "'0110001'"
      ]
     },
     "execution_count": 3,
     "metadata": {},
     "output_type": "execute_result"
    }
   ],
   "source": [
    "# 7ビットでパッディング\n",
    "b = _int2bin(ord('1'))\n",
    "\"0\" * (7 - len(b)) + b"
   ]
  },
  {
   "cell_type": "code",
   "execution_count": 4,
   "metadata": {},
   "outputs": [
    {
     "data": {
      "text/plain": [
       "'11010001100101110110011011001101111'"
      ]
     },
     "execution_count": 4,
     "metadata": {},
     "output_type": "execute_result"
    }
   ],
   "source": [
    "# 文字列をASCIIの2進数文字列に変換\n",
    "# 2進数文字列に変換\n",
    "def _int2bin(s): \n",
    "    return str(s) if s <= 1 else _int2bin(s>>1) +  str(s&1)\n",
    "    \n",
    "# 文字列をパディング付き2進数文字列に変換\n",
    "def encode(data):\n",
    "    binStr = \"\"\n",
    "    for d in data:\n",
    "        b = _int2bin(ord(d))\n",
    "        binStr += \"0\" * (7 - len(b)) + b\n",
    "    return binStr\n",
    "\n",
    "encode(\"hello\")"
   ]
  },
  {
   "cell_type": "code",
   "execution_count": 5,
   "metadata": {},
   "outputs": [
    {
     "data": {
      "text/plain": [
       "'1'"
      ]
     },
     "execution_count": 5,
     "metadata": {},
     "output_type": "execute_result"
    }
   ],
   "source": [
    "# 10進数文字コードから文字に変換\n",
    "chr(49)"
   ]
  },
  {
   "cell_type": "code",
   "execution_count": 6,
   "metadata": {},
   "outputs": [
    {
     "data": {
      "text/plain": [
       "49"
      ]
     },
     "execution_count": 6,
     "metadata": {},
     "output_type": "execute_result"
    }
   ],
   "source": [
    "# 2進数文字列を文字コードに変換\n",
    "int('0110001', 2)"
   ]
  },
  {
   "cell_type": "code",
   "execution_count": 7,
   "metadata": {},
   "outputs": [
    {
     "data": {
      "text/plain": [
       "'hello'"
      ]
     },
     "execution_count": 7,
     "metadata": {},
     "output_type": "execute_result"
    }
   ],
   "source": [
    "# ASCII2進数文字列の復号化\n",
    "def decode(bin_data):\n",
    "    # 7ビット文字列を保持するための変数\n",
    "    tmp_byte_txt = \"\"\n",
    "\n",
    "    # 復号化した文字列を保持するための変数\n",
    "    txt = \"\"\n",
    "\n",
    "    # 1文字つ処理を行う\n",
    "    for d in bin_data:\n",
    "        tmp_byte_txt += str(d)\n",
    "\n",
    "        # 7ビット読み込んで復号処理を行う\n",
    "        if len(tmp_byte_txt) == 7:\n",
    "            code = int(tmp_byte_txt, 2)\n",
    "            txt += chr(code)\n",
    "            tmp_byte_txt = \"\"\n",
    "    return txt\n",
    "\n",
    "decode('11010001100101110110011011001101111')"
   ]
  }
 ],
 "metadata": {
  "kernelspec": {
   "display_name": "Python 3",
   "language": "python",
   "name": "python3"
  },
  "language_info": {
   "codemirror_mode": {
    "name": "ipython",
    "version": 3
   },
   "file_extension": ".py",
   "mimetype": "text/x-python",
   "name": "python",
   "nbconvert_exporter": "python",
   "pygments_lexer": "ipython3",
   "version": "3.6.3"
  }
 },
 "nbformat": 4,
 "nbformat_minor": 2
}
